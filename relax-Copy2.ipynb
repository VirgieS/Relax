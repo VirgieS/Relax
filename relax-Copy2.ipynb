{
 "cells": [
  {
   "cell_type": "markdown",
   "metadata": {},
   "source": [
    "ici $p_{i,j}$ s'encode `p[j,i]`"
   ]
  },
  {
   "cell_type": "code",
   "execution_count": 2,
   "metadata": {
    "collapsed": true
   },
   "outputs": [],
   "source": [
    "import numpy\n",
    "from matplotlib import pyplot\n",
    "import matplotlib.cm as cm\n",
    "from JSAnimation.IPython_display import display_animation\n",
    "from matplotlib import animation\n",
    "%matplotlib inline"
   ]
  },
  {
   "cell_type": "code",
   "execution_count": 3,
   "metadata": {
    "collapsed": false
   },
   "outputs": [],
   "source": [
    "nx = 41\n",
    "ny = 41\n",
    "\n",
    "l = 1.\n",
    "h = 1.\n",
    "\n",
    "dx = l/(nx-1)\n",
    "dy = h/(ny-1)\n",
    "\n",
    "l1_target = 1e-6"
   ]
  },
  {
   "cell_type": "code",
   "execution_count": 4,
   "metadata": {
    "collapsed": true
   },
   "outputs": [],
   "source": [
    "def L1norm(new, old):\n",
    "    norm = numpy.sum(numpy.abs(new-old))/numpy.sum(numpy.abs(old))\n",
    "    return norm"
   ]
  },
  {
   "cell_type": "code",
   "execution_count": 5,
   "metadata": {
    "collapsed": true
   },
   "outputs": [],
   "source": [
    "def gradient(p,r,d):\n",
    "    \n",
    "    Ad=numpy.zeros((ny,nx))  #initialise les tableaux qui stockeront les matrices des gradients\n",
    "    #Ap=numpy.zeros((ny,nx)) #n'est pas nécessaire\n",
    "    \n",
    "    #copie des tableaux reçus pour pouvoir les modifier sans changer ce qui a été recalculé\n",
    "    pn=p.copy()\n",
    "    rn=r.copy()\n",
    "    dn=d.copy()\n",
    "    \n",
    "    #mise à jour de la premiere progression de calcul\n",
    "    rho=numpy.sum(rn*rn)\n",
    "    Ad[1:-1,1:-1] = -4*dn[1:-1,1:-1]+dn[1:-1,2:]+dn[1:-1,:-2]+\\\n",
    "            dn[2:, 1:-1] + dn[:-2, 1:-1]\n",
    "    #Ap[1:-1,1:-1] = -4*pn[1:-1,1:-1]+pn[1:-1,2:]+pn[1:-1,:-2]+\\\n",
    "            #pn[2:, 1:-1] + pn[:-2, 1:-1] #n'est pas nécessaire\n",
    "    sigma=numpy.sum(Ad*dn)\n",
    "    alpha=rho/sigma\n",
    "\n",
    "    p=pn+alpha*dn\n",
    "    \n",
    "    r=rn-alpha*Ad\n",
    "   \n",
    "    beta=numpy.sum(r*r)/rho\n",
    "    d=r+beta*dn\n",
    "\n",
    "    return p,r,d"
   ]
  },
  {
   "cell_type": "code",
   "execution_count": 9,
   "metadata": {
    "collapsed": false
   },
   "outputs": [
    {
     "name": "stdout",
     "output_type": "stream",
     "text": [
      "coucou\n"
     ]
    }
   ],
   "source": [
    "#conditions initiales\n",
    "pw=numpy.zeros((ny,nx))\n",
    "pw[-1,:]=-3/dy\n",
    "pw0=pw.copy()\n",
    "bw=numpy.zeros((ny,nx))\n",
    "rw=numpy.zeros((ny,nx))\n",
    "rw[1:-1,1:-1] = bw[1:-1,1:-1]*dx**2 + 4*pw[1:-1,1:-1] - \\\n",
    "        pw[1:-1,2:] - pw[1:-1,:-2] - pw[2:, 1:-1] - pw[:-2, 1:-1]\n",
    "dw=rw.copy()\n",
    "\n",
    "ppsi=numpy.zeros((ny,nx))\n",
    "ppsi[:,-2]=-dy\n",
    "ppsi0=ppsi.copy()\n",
    "bpsi=-pw.copy()\n",
    "rpsi=numpy.zeros((nx,ny))\n",
    "rpsi[1:-1,1:-1] = bpsi[1:-1,1:-1]*dx**2 + 4*ppsi[1:-1,1:-1] - \\\n",
    "        ppsi[1:-1,2:] - ppsi[1:-1,:-2] - ppsi[2:, 1:-1] - ppsi[:-2, 1:-1]\n",
    "dpsi=rpsi.copy()\n",
    "\n",
    "L1=1+l1_target\n",
    "l1_w=1.+l1_target\n",
    "l1_psi=1.+l1_target\n",
    "\n",
    "i=0\n",
    "\n",
    "#while L1>l1_target:  # changer critère d'arret\n",
    "    #print(\"coucou\")\n",
    "    while l1_psi>l1_target:#calcul de psi\n",
    "\n",
    "        ppsin=gradient(ppsi.copy(),rpsi.copy(),dpsi.copy())[0].copy()\n",
    "        rpsin=gradient(ppsi.copy(),rpsi.copy(),dpsi.copy())[1].copy()\n",
    "        dpsin=gradient(ppsi.copy(),rpsi.copy(),dpsi.copy())[2].copy()\n",
    "        \n",
    "        #conditions de bord sur psi (dirichlet et neumann)\n",
    "        ppsin[0,:]=0 \n",
    "        ppsin[-1,:]=0\n",
    "        ppsin[:,0]=0\n",
    "        ppsin[:,-1]=0\n",
    "        \n",
    "        ppsin[1,:]=ppsin[0,:]\n",
    "        ppsin[-2,:]=ppsin[-2,:]-dy\n",
    "        ppsin[:,1]=ppsin[:,0]\n",
    "        ppsin[:,-2]=ppsin[:,-1]\n",
    "        \n",
    "        l1_psi=L1norm(ppsin,ppsi)\n",
    "        \n",
    "        ppsi=ppsin.copy()\n",
    "        rpsi=rpsin.copy()\n",
    "        dpsi=dpsin.copy()\n",
    "    \n",
    "    while l1_w>l1_target: #calcul de oméga\n",
    "\n",
    "        pwn=gradient(pw.copy(),rw.copy(),dw.copy())[0].copy()\n",
    "        rwn=gradient(pw.copy(),rw.copy(),dw.copy())[1].copy()\n",
    "        dwn=gradient(pw.copy(),rw.copy(),dw.copy())[2].copy()\n",
    "    \n",
    "        #conditions de bord sur pwn \n",
    "        pwn[-1,:]=1/(2*dy**2)*(ppsi[-3,:]-8*ppsi[-2,:])-3/dy #top\n",
    "        pwn[0,:]= 0  #bottom\n",
    "        pwn[:,0]= 0  #left\n",
    "        pwn[:,-1]= 0  #right\n",
    "    \n",
    "        pwn[-2,:]=pwn[-1,:]\n",
    "        pwn[1,:]=pwn[0,:]\n",
    "        pwn[:,1]=pwn[:,0]\n",
    "        pwn[:,-2]=pwn[:,-1]\n",
    "        \n",
    "        l1_w=L1norm(pwn,pw)    \n",
    "\n",
    "        pw=pwn.copy()\n",
    "        rw=rwn.copy()\n",
    "        dw=dwn.copy()\n",
    "    \n",
    "    rpsi[1:-1,1:-1] = -pw[1:-1,1:-1]*dx**2 + 4*ppsi[1:-1,1:-1] - \\\n",
    "        ppsi[1:-1,2:] - ppsi[1:-1,:-2] - ppsi[2:, 1:-1] - ppsi[:-2, 1:-1]\n",
    "    dpsi=rpsi.copy()\n",
    "    \n",
    "    L1=max(L1norm(pw,pw0),L1norm(ppsi,ppsi0))\n",
    "    \n",
    "    i+=1\n",
    "    if i>1000000:\n",
    "        break"
   ]
  },
  {
   "cell_type": "markdown",
   "metadata": {
    "collapsed": true
   },
   "source": [
    "en changeant de place les conditions de bord de pwn, seul le premier chiffre change, le dernier chiffre est identique dans les deux cas\n",
    "\n",
    "\n",
    "    if i==0:\n",
    "        fig = pyplot.figure(figsize=(8,5))\n",
    "        pyplot.subplot(121)\n",
    "        pyplot.imshow(pw[5:-5,5:-5], cmap = cm.RdBu)\n",
    "        pyplot.xticks([]), pyplot.yticks([]);\n",
    "        print(l1)\n",
    "    \n",
    "    i+=1\n",
    "    i=i%100"
   ]
  },
  {
   "cell_type": "markdown",
   "metadata": {},
   "source": [
    "`pwn[-1,:]=1/(2*dy**2)*(ppsin[-3,:]-8*ppsin[-2,:])-3/dy #top`\n",
    "\n",
    "`pwn[0,:]= 0 #1/(2*dy**2)*(ppsin[2,:]-8*ppsin[1,:]) #bottom`\n",
    "\n",
    "`pwn[:,0]= 0 #1/(2*dx**2)*(ppsin[:,2]-8*ppsin[:,1]) #left`\n",
    "\n",
    "`pwn[:,-1]= 0 #1/(2*dx**2)*(ppsin[:,-3]-8*ppsin[:,-2]) #right`"
   ]
  },
  {
   "cell_type": "code",
   "execution_count": null,
   "metadata": {
    "collapsed": false
   },
   "outputs": [],
   "source": []
  },
  {
   "cell_type": "code",
   "execution_count": null,
   "metadata": {
    "collapsed": true
   },
   "outputs": [],
   "source": []
  }
 ],
 "metadata": {
  "kernelspec": {
   "display_name": "Python 3",
   "language": "python",
   "name": "python3"
  },
  "language_info": {
   "codemirror_mode": {
    "name": "ipython",
    "version": 3
   },
   "file_extension": ".py",
   "mimetype": "text/x-python",
   "name": "python",
   "nbconvert_exporter": "python",
   "pygments_lexer": "ipython3",
   "version": "3.4.3"
  }
 },
 "nbformat": 4,
 "nbformat_minor": 0
}
